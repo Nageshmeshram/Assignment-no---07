{
 "cells": [
  {
   "cell_type": "code",
   "execution_count": null,
   "id": "8cbfa948",
   "metadata": {},
   "outputs": [],
   "source": [
    "1. What is the name of the feature responsible for generating RegEx objects?\n",
    "Answer:\n",
    "    A RegEx, or Regular Expression, is a sequence of characters that forms a search pattern.\n",
    "    RegEx can be used to check if a string contains the specified search pattern.for example as fallowing"
   ]
  },
  {
   "cell_type": "code",
   "execution_count": 1,
   "id": "851b1951",
   "metadata": {},
   "outputs": [],
   "source": [
    "import re"
   ]
  },
  {
   "cell_type": "code",
   "execution_count": null,
   "id": "8ac822cb",
   "metadata": {},
   "outputs": [],
   "source": [
    "text = \"Hi i am learning python from ineuron\"\n",
    "x = ('#hi',text)\n",
    "if x:\n",
    "    print(\"it is found in it \"\""
   ]
  }
 ],
 "metadata": {
  "kernelspec": {
   "display_name": "Python 3 (ipykernel)",
   "language": "python",
   "name": "python3"
  },
  "language_info": {
   "codemirror_mode": {
    "name": "ipython",
    "version": 3
   },
   "file_extension": ".py",
   "mimetype": "text/x-python",
   "name": "python",
   "nbconvert_exporter": "python",
   "pygments_lexer": "ipython3",
   "version": "3.9.12"
  }
 },
 "nbformat": 4,
 "nbformat_minor": 5
}
